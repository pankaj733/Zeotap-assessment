{
 "cells": [
  {
   "cell_type": "code",
   "execution_count": null,
   "metadata": {},
   "outputs": [],
   "source": [
    "import pandas as pd\n",
    "from sklearn.preprocessing import StandardScaler\n",
    "from sklearn.metrics.pairwise import cosine_similarity\n",
    "\n",
    "# Load datasets\n",
    "customers = pd.read_csv('path_to_customers.csv')\n",
    "products = pd.read_csv('path_to_products.csv')\n",
    "transactions = pd.read_csv('path_to_transactions.csv')\n",
    "\n",
    "# Merge datasets\n",
    "merged_data = transactions.merge(customers, on='customer_id').merge(products, on='product_id')\n",
    "\n",
    "# Feature Engineering\n",
    "# Create features for each customer\n",
    "customer_features = merged_data.groupby('customer_id').agg({\n",
    "    'age': 'first',  # Assuming age is constant for each customer\n",
    "    'gender': 'first',  # Assuming gender is constant for each customer\n",
    "    'transaction_amount': 'sum',  # Total spending\n",
    "    'product_id': 'nunique'  # Number of unique products purchased\n",
    "}).reset_index()\n",
    "\n",
    "# Convert categorical features to numerical\n",
    "customer_features = pd.get_dummies(customer_features, columns=['gender'], drop_first=True)\n",
    "\n",
    "# Normalize features\n",
    "scaler = StandardScaler()\n",
    "features_scaled = scaler.fit_transform(customer_features[['age', 'transaction_amount', 'product_id']])\n",
    "\n",
    "# Calculate similarity scores\n",
    "similarity_matrix = cosine_similarity(features_scaled)\n",
    "\n",
    "# Create a DataFrame to hold similarity scores\n",
    "similarity_df = pd.DataFrame(similarity_matrix, index=customer_features['customer_id'], columns=customer_features['customer_id'])\n",
    "\n",
    "# Generate recommendations for the first 20 customers\n",
    "lookalike_results = {}\n",
    "\n",
    "for customer_id in customer_features['customer_id'][:20]:\n",
    "    # Get the similarity scores for the current customer\n",
    "    similar_customers = similarity_df[customer_id].nlargest(4)  # Get top 4 (including self)\n",
    "    similar_customers = similar_customers[similar_customers.index != customer_id]  # Exclude self\n",
    "    lookalike_results[customer_id] = similar_customers.index.tolist()[:3], similar_customers.values.tolist()[:3]\n",
    "\n",
    "# Create a DataFrame for the results\n",
    "lookalike_df = pd.DataFrame.from_dict(lookalike_results, orient='index', columns=['similar_customers', 'similarity_scores'])\n",
    "lookalike_df.reset_index(inplace=True)\n",
    "lookalike_df.rename(columns={'index': 'customer_id'}, inplace=True)\n",
    "\n",
    "# Save to CSV\n",
    "lookalike_df.to_csv('Lookalike.csv', index=False)"
   ]
  },
  {
   "cell_type": "code",
   "execution_count": null,
   "metadata": {},
   "outputs": [],
   "source": []
  }
 ],
 "metadata": {
  "language_info": {
   "name": "python"
  }
 },
 "nbformat": 4,
 "nbformat_minor": 2
}
