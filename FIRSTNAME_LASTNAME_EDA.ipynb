import pandas as pd

# Load datasets
customers = pd.read_csv('path_to_customers.csv')
products = pd.read_csv('path_to_products.csv')
transactions = pd.read_csv('path_to_transactions.csv')
# Overview of the datasets
print(customers.head())
print(products.head())
print(transactions.head())

# Check for missing values
print(customers.isnull().sum())
print(products.isnull().sum())
print(transactions.isnull().sum())

# Summary statistics
print(customers.describe())
print(products.describe())
print(transactions.describe())

# Data types
print(customers.dtypes)
print(products.dtypes)
print(transactions.dtypes)

# Visualizations
import matplotlib.pyplot as plt
import seaborn as sns

# Distribution of customer ages
plt.figure(figsize=(10, 6))
sns.histplot(customers['age'], bins=20, kde=True)
plt.title('Age Distribution of Customers')
plt.xlabel('Age')
plt.ylabel('Frequency')
plt.show()

# Sales by product category
sales_by_category = transactions.groupby('product_id').size().reset_index(name='sales_count')
merged_data = sales_by_category.merge(products, on='product_id')
plt.figure(figsize=(12, 6))
sns.barplot(x='category', y='sales_count', data=merged_data)
plt.title('Sales Count by Product Category')
plt.xticks(rotation=45)
plt.show()

# Transaction trends over time
transactions['date'] = pd.to_datetime(transactions['date'])
transactions.set_index('date', inplace=True)
monthly_sales = transactions.resample('M').size()
plt.figure(figsize=(12, 6))
monthly_sales.plot()
plt.title('Monthly Sales Trend')
plt.xlabel('Date')
plt.ylabel('Number of Transactions')
plt.show()